{
 "cells": [
  {
   "cell_type": "markdown",
   "metadata": {},
   "source": [
    "##### JavaScript\n"
   ]
  },
  {
   "cell_type": "code",
   "execution_count": null,
   "metadata": {
    "vscode": {
     "languageId": "javascript"
    }
   },
   "outputs": [],
   "source": [
    "function par_impar (num){\n",
    "    console.log(\"Num ingresado:\",num)\n",
    "    if (num==0) {\n",
    "        console.log(\"Es indefinido\")\n",
    "    }\n",
    "\n",
    "    else if (num%2==0) {\n",
    "        console.log(\"Es par\")\n",
    "    } \n",
    "    \n",
    "    else if (num%2!=0) {\n",
    "        console.log(\"Es impar\")\n",
    "    }\n",
    "}\n",
    "\n",
    "par_impar(3)"
   ]
  }
 ],
 "metadata": {
  "language_info": {
   "name": "python"
  }
 },
 "nbformat": 4,
 "nbformat_minor": 2
}
